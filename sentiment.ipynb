{
 "cells": [
  {
   "cell_type": "code",
   "execution_count": 1,
   "metadata": {},
   "outputs": [],
   "source": [
    "from config import App\n",
    "import json\n",
    "scraped_pypl = App.config(\"SCRAPE_OUTPUT\")"
   ]
  },
  {
   "cell_type": "code",
   "execution_count": 2,
   "metadata": {},
   "outputs": [
    {
     "name": "stdout",
     "output_type": "stream",
     "text": [
      "We recently published a list of 10 Best Stocks to Buy According to Billionaire Ray Dalio. In this article, we are going to take a look at where PayPal Holdings Inc. (NASDAQ:PYPL) stands against other best stocks to buy according to billionaire Ray Dalio.\n",
      "Ray Dalio, with over 50 years of experience, is arguably one of the most influential investors on Wall Street. Having accurately predicted the 2008 financial crisis, he is often looked upon for insights and the direction the market will likely take in times of uncertainty. He is the brains behind Bridgewater Associates, a hedge fund he founded in 1973, which leverages various strategies, including Pure Alpha and macroeconomic analysis, to squeeze optimum returns in the markets.\n",
      "While Dalio gave up his CEO role at Bridgewater Associates in 2017, his sentiments still influenced the hedge fund’s investment strategy and play. Likewise, the hedge fund has remained on top of its game, generating an average return of 11.5% annually while leveraging the Pure Alpha Strategy.\n",
      "READ ALSO: Paul Singer’s Latest Portfolio: Top 10 Stock Picks and 10 Best Stocks to Buy According to Seth Klarman.\n",
      "The outperformance comes as the overall equity market has been in an uptrend amid the artificial intelligence-driven run. Likewise, the US economy staying clear of recession amid high interest has bolstered sentiments about market risk-taking.\n",
      "Even though the overall equity market has been in an uptrend, billionaire Ray Dalio is sounding the warning bells about an imminent debt crisis. The fact that the US debt-to-GDP ratio has risen to over 122% poses significant risks, according to the founder of Bridgewater Associates.\n",
      "Over the last two quarters, GDP has been gradually increasing, and unemployment and inflation have been relatively stable. However, Ray Dalio has warned that America’s national debt is a problem that is imminently coming and that it will rock the boat. According to Dalio, the US deficit must drop from a projected 7.2% of gross domestic product to about 3% of GDP.\n",
      "“We have a very severe supply and demand problem. Some people think we’ll handle it because we’ve handled it so far. I don’t think they understand the mechanics of debt.” Dalio said\n",
      "Dalio’s caution comes as President Donald Trump’s administration struggles to retain significant tax cuts while simultaneously cutting the annual deficit, which most recently hit $1.8 trillion.\n",
      "According to Dalio, President Trump has undoubtedly shown that he is not afraid to use economic pressure to further his objectives. An examination of his executive orders since assuming office is sufficient proof that he has what it takes to reduce the US deficit and heightened debt levels.\n",
      "However, the Oval Office might have lost some of its goodwill with the countries that would have hurried to its aid by inflicting pain through trade tariffs. Uncertainty around trade policy has exacerbated investor anxiety on Wall Street as they worry about how a potential trade war will affect the world economy.\n",
      "Tariffs against Canada, Mexico, and China are part of Trump’s trade policies, which are intended to rebalance the economy to America’s advantage. Nevertheless, they have the potential to trigger an economic slowdown and higher inflation.\n",
      "Even as Dalio remains concerned about the US debt levels and the uncertainty triggered by trade wars, he remains bullish about the US equity markets. Bridgewater Associates’ portfolio has significant exposure to tech stocks as it looks to benefit from the AI spectacle.\n",
      "To make the list of the 10 Best stocks to buy, according to billionaire Ray Dalio, we selected the top 10 stocks in Bridgewater Associates’ portfolio as of its Q4 2024 13F filing. We settled on the hedge fund’s ten biggest holdings and examined why they stand out as Ray Dalio’s top stock picks. Finally, we ranked the stocks in ascending order based on the value of Bridgewater Associates equity stakes. Additionally, we have mentioned the hedge fund sentiment around each stock, as of Q4 2024.\n",
      "At Insider Monkey, we are obsessed with the stocks that hedge funds pile into. The reason is simple: our research has shown that we can outperform the market by imitating the top stock picks of the best hedge funds. Our quarterly newsletter’s strategy selects 14 small-cap and large-cap stocks every quarter and has returned 373.4% since May 2014, beating its benchmark by 218 percentage points (see more details here).\n",
      "A consumer in a cafe paying for goods using a mobile payment app.\n",
      "Bridgewater Associates Equity Stakes: $201.29 Million\n",
      "Number of Hedge Fund Holders: 94\n",
      "PayPal Holdings Inc. (NASDAQ:PYPL) is a financial services company that operates a technology platform that enables digital payments for merchants and consumers worldwide. While the company has struggled amid stiff competition from rival businesses, new management under new CEO Alex Chris has sought to reinvigorate its growth metrics.\n",
      "The restructuring drive has also targeted the product line, resulting in several new features designed to streamline and speed up the buying process, such as Fastlane. It has also implemented operational changes, including integrating the all-important pricing feature. The changes are already bearing fruits, given that the total payment volume increased by 7% year-over-year in Q4 2024. In 2024, PayPal Holdings Inc. (NASDAQ:PYPL) made $31.8 billion in net sales, a 7% increase from the previous year. This led to $4.2 billion in net income, a 2% decrease.\n",
      "Monthly active users rose 2% to 223 million, while active accounts climbed 2% year over year to 434 million, affirming underlying growth. This is a change from numbers that had begun to fall, and it may be due to PayPal Holdings Inc.’s (NASDAQ:PYPL) new and enhanced features and products. A 5% year-over-year gain in Q4 earnings per share (EPS) reflects management’s efforts to improve efficiency.\n",
      "Overall, PYPL ranks 9th on our list of best stocks to buy according to billionaire Ray Dalio.While we acknowledge the potential of PYPL as an investment, our conviction lies in the belief that AI stocks hold greater promise for delivering higher returns and doing so within a shorter time frame. If you are looking for an AI stock that is more promising than PYPL but that trades at less than 5 times its earnings, check out our report about the cheapest AI stock.\n",
      "READ NEXT: 20 Best AI Stocks To Buy Now and 30 Best Stocks to Buy Now According to Billionaires\n",
      "Disclosure: None. This article is originally published at Insider Monkey.\n",
      "6530\n",
      "The latest trading session saw Paypal (PYPL) ending at $70.97, denoting a +1.11% adjustment from its last day's close. The stock trailed the S&P 500, which registered a daily gain of 1.77%. Elsewhere, the Dow saw an upswing of 1.42%, while the tech-heavy Nasdaq appreciated by 2.28%.\n",
      "The technology platform and digital payments company's stock has dropped by 6.35% in the past month, exceeding the Business Services sector's loss of 7.87% and lagging the S&P 500's loss of 5.73%.\n",
      "Investors will be eagerly watching for the performance of Paypal in its upcoming earnings disclosure. The company's upcoming EPS is projected at $1.16, signifying a 17.14% drop compared to the same quarter of the previous year. Simultaneously, our latest consensus estimate expects the revenue to be $7.82 billion, showing a 1.57% escalation compared to the year-ago quarter.\n",
      "For the entire fiscal year, the Zacks Consensus Estimates are projecting earnings of $5.02 per share and a revenue of $32.98 billion, representing changes of +7.96% and +3.72%, respectively, from the prior year.\n",
      "Furthermore, it would be beneficial for investors to monitor any recent shifts in analyst projections for Paypal. These latest adjustments often mirror the shifting dynamics of short-term business patterns. As a result, upbeat changes in estimates indicate analysts' favorable outlook on the company's business health and profitability.\n",
      "Based on our research, we believe these estimate revisions are directly related to near-team stock moves. We developed the Zacks Rank to capitalize on this phenomenon. Our system takes these estimate changes into account and delivers a clear, actionable rating model.\n",
      "Ranging from #1 (Strong Buy) to #5 (Strong Sell), the Zacks Rank system has a proven, outside-audited track record of outperformance, with #1 stocks returning an average of +25% annually since 1988. The Zacks Consensus EPS estimate has moved 0.04% higher within the past month. Paypal presently features a Zacks Rank of #3 (Hold).\n",
      "Digging into valuation, Paypal currently has a Forward P/E ratio of 13.98. This valuation marks a discount compared to its industry's average Forward P/E of 15.25.\n",
      "It's also important to note that PYPL currently trades at a PEG ratio of 1.19. The PEG ratio is akin to the commonly utilized P/E ratio, but this measure also incorporates the company's anticipated earnings growth rate. By the end of yesterday's trading, the Financial Transaction Services industry had an average PEG ratio of 1.41.\n",
      "The Financial Transaction Services industry is part of the Business Services sector. This group has a Zacks Industry Rank of 133, putting it in the bottom 48% of all 250+ industries.\n",
      "The Zacks Industry Rank gauges the strength of our industry groups by measuring the average Zacks Rank of the individual stocks within the groups. Our research shows that the top 50% rated industries outperform the bottom half by a factor of 2 to 1.\n",
      "Ensure to harness Zacks.com to stay updated with all these stock-shifting metrics, among others, in the next trading sessions.\n",
      "Want the latest recommendations from Zacks Investment Research? Today, you can download 7 Best Stocks for the Next 30 Days. Click to get this free report\n",
      "PayPal Holdings, Inc. (PYPL) : Free Stock Analysis Report\n",
      "This article originally published on Zacks Investment Research (zacks.com).\n",
      "Zacks Investment Research\n",
      "3375\n"
     ]
    }
   ],
   "source": [
    "with open(scraped_pypl) as f:\n",
    "    j = json.load(f)\n",
    "    for article in j[:2]:\n",
    "        body = article[\"body\"]\n",
    "        print(body)\n",
    "        print(len(body))"
   ]
  },
  {
   "cell_type": "code",
   "execution_count": 3,
   "metadata": {},
   "outputs": [
    {
     "name": "stderr",
     "output_type": "stream",
     "text": [
      "c:\\Users\\Ameno\\Anaconda3\\envs\\kramer\\lib\\site-packages\\tqdm\\auto.py:21: TqdmWarning: IProgress not found. Please update jupyter and ipywidgets. See https://ipywidgets.readthedocs.io/en/stable/user_install.html\n",
      "  from .autonotebook import tqdm as notebook_tqdm\n",
      "Device set to use cpu\n"
     ]
    }
   ],
   "source": [
    "from transformers import AutoTokenizer, AutoModelForSequenceClassification, pipeline\n",
    "\n",
    "# Load FinBERT tokenizer and model\n",
    "model_name = \"ProsusAI/finbert\"\n",
    "tokenizer = AutoTokenizer.from_pretrained(model_name)\n",
    "model = AutoModelForSequenceClassification.from_pretrained(model_name)\n",
    "\n",
    "# Create a sentiment-analysis pipeline\n",
    "finbert = pipeline(\"sentiment-analysis\", model=model, tokenizer=tokenizer)"
   ]
  },
  {
   "cell_type": "code",
   "execution_count": 6,
   "metadata": {},
   "outputs": [],
   "source": [
    "def classify_with_confidence(article_text):\n",
    "    result = finbert(article_text[:512])[0] # limit input to 512 tokens\n",
    "    sentiment = result['label'].lower()\n",
    "    score = result['score']\n",
    "\n",
    "    decision = 'Hold'\n",
    "    if sentiment == 'positive':\n",
    "        decision = 'Buy'\n",
    "    elif sentiment == 'negative':\n",
    "        decision = 'Sell'\n",
    "    \n",
    "    return decision, round(score, 3)"
   ]
  },
  {
   "cell_type": "code",
   "execution_count": 7,
   "metadata": {},
   "outputs": [
    {
     "name": "stdout",
     "output_type": "stream",
     "text": [
      "Article 1: ('Buy', 0.957)\n",
      "Article 2: ('Sell', 0.761)\n",
      "Article 3: ('Sell', 0.929)\n"
     ]
    }
   ],
   "source": [
    "articles = [\n",
    "    \"This stock is expected to perform strongly next quarter due to rising demand...\",\n",
    "    \"Analysts warn of overvaluation and recommend investors consider selling...\",\n",
    "    \"Mixed earnings report leaves outlook uncertain. Investors are advised to wait...\"\n",
    "]\n",
    "\n",
    "for i, article in enumerate(articles):\n",
    "    decision = classify_with_confidence(article)\n",
    "    print(f\"Article {i+1}: {decision}\")"
   ]
  }
 ],
 "metadata": {
  "kernelspec": {
   "display_name": "kramer",
   "language": "python",
   "name": "python3"
  },
  "language_info": {
   "codemirror_mode": {
    "name": "ipython",
    "version": 3
   },
   "file_extension": ".py",
   "mimetype": "text/x-python",
   "name": "python",
   "nbconvert_exporter": "python",
   "pygments_lexer": "ipython3",
   "version": "3.9.4"
  }
 },
 "nbformat": 4,
 "nbformat_minor": 2
}
